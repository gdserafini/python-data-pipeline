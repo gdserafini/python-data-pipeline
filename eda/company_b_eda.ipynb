{
 "cells": [
  {
   "cell_type": "code",
   "execution_count": 1,
   "metadata": {},
   "outputs": [],
   "source": [
    "import pandas as pd"
   ]
  },
  {
   "cell_type": "code",
   "execution_count": 2,
   "metadata": {},
   "outputs": [],
   "source": [
    "COMP_B_PATH = '../raw_data/dados_empresaB.csv'"
   ]
  },
  {
   "cell_type": "code",
   "execution_count": null,
   "metadata": {},
   "outputs": [
    {
     "data": {
      "text/html": [
       "<div>\n",
       "<style scoped>\n",
       "    .dataframe tbody tr th:only-of-type {\n",
       "        vertical-align: middle;\n",
       "    }\n",
       "\n",
       "    .dataframe tbody tr th {\n",
       "        vertical-align: top;\n",
       "    }\n",
       "\n",
       "    .dataframe thead th {\n",
       "        text-align: right;\n",
       "    }\n",
       "</style>\n",
       "<table border=\"1\" class=\"dataframe\">\n",
       "  <thead>\n",
       "    <tr style=\"text-align: right;\">\n",
       "      <th></th>\n",
       "      <th>Nome do Item</th>\n",
       "      <th>Classificação do Produto</th>\n",
       "      <th>Valor em Reais (R$)</th>\n",
       "      <th>Quantidade em Estoque</th>\n",
       "      <th>Nome da Loja</th>\n",
       "      <th>Data da Venda</th>\n",
       "    </tr>\n",
       "  </thead>\n",
       "  <tbody>\n",
       "    <tr>\n",
       "      <th>0</th>\n",
       "      <td>Lápis de sobrancelha</td>\n",
       "      <td>Roupas</td>\n",
       "      <td>55.17</td>\n",
       "      <td>62</td>\n",
       "      <td>Filial 1</td>\n",
       "      <td>2023-04-13 18:58:06.794203</td>\n",
       "    </tr>\n",
       "    <tr>\n",
       "      <th>1</th>\n",
       "      <td>Batom matte</td>\n",
       "      <td>Eletrônicos</td>\n",
       "      <td>74.15</td>\n",
       "      <td>48</td>\n",
       "      <td>Filial 9</td>\n",
       "      <td>2023-06-03 18:58:06.794203</td>\n",
       "    </tr>\n",
       "    <tr>\n",
       "      <th>2</th>\n",
       "      <td>Corretivo</td>\n",
       "      <td>Roupas</td>\n",
       "      <td>54.86</td>\n",
       "      <td>36</td>\n",
       "      <td>Filial 5</td>\n",
       "      <td>2023-06-08 18:58:06.794203</td>\n",
       "    </tr>\n",
       "    <tr>\n",
       "      <th>3</th>\n",
       "      <td>Delineador líquido</td>\n",
       "      <td>Roupas</td>\n",
       "      <td>91.29</td>\n",
       "      <td>1</td>\n",
       "      <td>Filial 8</td>\n",
       "      <td>2023-02-27 18:58:06.794203</td>\n",
       "    </tr>\n",
       "    <tr>\n",
       "      <th>4</th>\n",
       "      <td>Batom líquido</td>\n",
       "      <td>Roupas</td>\n",
       "      <td>44.65</td>\n",
       "      <td>52</td>\n",
       "      <td>Filial 2</td>\n",
       "      <td>2022-09-05 18:58:06.794203</td>\n",
       "    </tr>\n",
       "  </tbody>\n",
       "</table>\n",
       "</div>"
      ],
      "text/plain": [
       "           Nome do Item Classificação do Produto  Valor em Reais (R$)  \\\n",
       "0  Lápis de sobrancelha                   Roupas                55.17   \n",
       "1           Batom matte              Eletrônicos                74.15   \n",
       "2             Corretivo                   Roupas                54.86   \n",
       "3    Delineador líquido                   Roupas                91.29   \n",
       "4         Batom líquido                   Roupas                44.65   \n",
       "\n",
       "   Quantidade em Estoque Nome da Loja               Data da Venda  \n",
       "0                     62     Filial 1  2023-04-13 18:58:06.794203  \n",
       "1                     48     Filial 9  2023-06-03 18:58:06.794203  \n",
       "2                     36     Filial 5  2023-06-08 18:58:06.794203  \n",
       "3                      1     Filial 8  2023-02-27 18:58:06.794203  \n",
       "4                     52     Filial 2  2022-09-05 18:58:06.794203  "
      ]
     },
     "execution_count": 3,
     "metadata": {},
     "output_type": "execute_result"
    }
   ],
   "source": [
    "comp_b_df = pd.read_csv(COMP_B_PATH)\n",
    "comp_b_df.head()"
   ]
  },
  {
   "cell_type": "code",
   "execution_count": 4,
   "metadata": {},
   "outputs": [
    {
     "name": "stdout",
     "output_type": "stream",
     "text": [
      "<class 'pandas.core.frame.DataFrame'>\n",
      "RangeIndex: 1323 entries, 0 to 1322\n",
      "Data columns (total 6 columns):\n",
      " #   Column                    Non-Null Count  Dtype  \n",
      "---  ------                    --------------  -----  \n",
      " 0   Nome do Item              1323 non-null   object \n",
      " 1   Classificação do Produto  1323 non-null   object \n",
      " 2   Valor em Reais (R$)       1323 non-null   float64\n",
      " 3   Quantidade em Estoque     1323 non-null   int64  \n",
      " 4   Nome da Loja              1323 non-null   object \n",
      " 5   Data da Venda             1323 non-null   object \n",
      "dtypes: float64(1), int64(1), object(4)\n",
      "memory usage: 62.1+ KB\n"
     ]
    }
   ],
   "source": [
    "comp_b_df.info()"
   ]
  },
  {
   "cell_type": "code",
   "execution_count": 5,
   "metadata": {},
   "outputs": [
    {
     "data": {
      "text/html": [
       "<div>\n",
       "<style scoped>\n",
       "    .dataframe tbody tr th:only-of-type {\n",
       "        vertical-align: middle;\n",
       "    }\n",
       "\n",
       "    .dataframe tbody tr th {\n",
       "        vertical-align: top;\n",
       "    }\n",
       "\n",
       "    .dataframe thead th {\n",
       "        text-align: right;\n",
       "    }\n",
       "</style>\n",
       "<table border=\"1\" class=\"dataframe\">\n",
       "  <thead>\n",
       "    <tr style=\"text-align: right;\">\n",
       "      <th></th>\n",
       "      <th>Valor em Reais (R$)</th>\n",
       "      <th>Quantidade em Estoque</th>\n",
       "    </tr>\n",
       "  </thead>\n",
       "  <tbody>\n",
       "    <tr>\n",
       "      <th>count</th>\n",
       "      <td>1323.000000</td>\n",
       "      <td>1323.000000</td>\n",
       "    </tr>\n",
       "    <tr>\n",
       "      <th>mean</th>\n",
       "      <td>51.071240</td>\n",
       "      <td>51.331066</td>\n",
       "    </tr>\n",
       "    <tr>\n",
       "      <th>std</th>\n",
       "      <td>28.784597</td>\n",
       "      <td>29.095167</td>\n",
       "    </tr>\n",
       "    <tr>\n",
       "      <th>min</th>\n",
       "      <td>1.080000</td>\n",
       "      <td>1.000000</td>\n",
       "    </tr>\n",
       "    <tr>\n",
       "      <th>25%</th>\n",
       "      <td>26.095000</td>\n",
       "      <td>25.000000</td>\n",
       "    </tr>\n",
       "    <tr>\n",
       "      <th>50%</th>\n",
       "      <td>51.780000</td>\n",
       "      <td>52.000000</td>\n",
       "    </tr>\n",
       "    <tr>\n",
       "      <th>75%</th>\n",
       "      <td>75.610000</td>\n",
       "      <td>78.000000</td>\n",
       "    </tr>\n",
       "    <tr>\n",
       "      <th>max</th>\n",
       "      <td>99.980000</td>\n",
       "      <td>100.000000</td>\n",
       "    </tr>\n",
       "  </tbody>\n",
       "</table>\n",
       "</div>"
      ],
      "text/plain": [
       "       Valor em Reais (R$)  Quantidade em Estoque\n",
       "count          1323.000000            1323.000000\n",
       "mean             51.071240              51.331066\n",
       "std              28.784597              29.095167\n",
       "min               1.080000               1.000000\n",
       "25%              26.095000              25.000000\n",
       "50%              51.780000              52.000000\n",
       "75%              75.610000              78.000000\n",
       "max              99.980000             100.000000"
      ]
     },
     "execution_count": 5,
     "metadata": {},
     "output_type": "execute_result"
    }
   ],
   "source": [
    "comp_b_df.describe()"
   ]
  },
  {
   "cell_type": "code",
   "execution_count": null,
   "metadata": {},
   "outputs": [],
   "source": []
  }
 ],
 "metadata": {
  "kernelspec": {
   "display_name": ".venv",
   "language": "python",
   "name": "python3"
  },
  "language_info": {
   "codemirror_mode": {
    "name": "ipython",
    "version": 3
   },
   "file_extension": ".py",
   "mimetype": "text/x-python",
   "name": "python",
   "nbconvert_exporter": "python",
   "pygments_lexer": "ipython3",
   "version": "3.12.3"
  }
 },
 "nbformat": 4,
 "nbformat_minor": 2
}

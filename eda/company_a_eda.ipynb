{
 "cells": [
  {
   "cell_type": "code",
   "execution_count": 1,
   "metadata": {},
   "outputs": [],
   "source": [
    "import pandas as pd"
   ]
  },
  {
   "cell_type": "code",
   "execution_count": 2,
   "metadata": {},
   "outputs": [],
   "source": [
    "COMP_A_PATH = '../raw_data/dados_empresaA.json'"
   ]
  },
  {
   "cell_type": "code",
   "execution_count": 3,
   "metadata": {},
   "outputs": [
    {
     "data": {
      "text/html": [
       "<div>\n",
       "<style scoped>\n",
       "    .dataframe tbody tr th:only-of-type {\n",
       "        vertical-align: middle;\n",
       "    }\n",
       "\n",
       "    .dataframe tbody tr th {\n",
       "        vertical-align: top;\n",
       "    }\n",
       "\n",
       "    .dataframe thead th {\n",
       "        text-align: right;\n",
       "    }\n",
       "</style>\n",
       "<table border=\"1\" class=\"dataframe\">\n",
       "  <thead>\n",
       "    <tr style=\"text-align: right;\">\n",
       "      <th></th>\n",
       "      <th>Nome do Produto</th>\n",
       "      <th>Categoria do Produto</th>\n",
       "      <th>Preço do Produto (R$)</th>\n",
       "      <th>Quantidade em Estoque</th>\n",
       "      <th>Filial</th>\n",
       "    </tr>\n",
       "  </thead>\n",
       "  <tbody>\n",
       "    <tr>\n",
       "      <th>0</th>\n",
       "      <td>Blush em pó</td>\n",
       "      <td>Eletrodomésticos</td>\n",
       "      <td>79.41</td>\n",
       "      <td>7</td>\n",
       "      <td>Filial 7</td>\n",
       "    </tr>\n",
       "    <tr>\n",
       "      <th>1</th>\n",
       "      <td>Lápis de sobrancelha</td>\n",
       "      <td>Eletrodomésticos</td>\n",
       "      <td>85.47</td>\n",
       "      <td>78</td>\n",
       "      <td>Filial 8</td>\n",
       "    </tr>\n",
       "    <tr>\n",
       "      <th>2</th>\n",
       "      <td>Base líquida</td>\n",
       "      <td>Roupas</td>\n",
       "      <td>75.02</td>\n",
       "      <td>34</td>\n",
       "      <td>Filial 8</td>\n",
       "    </tr>\n",
       "    <tr>\n",
       "      <th>3</th>\n",
       "      <td>Base líquida</td>\n",
       "      <td>Roupas</td>\n",
       "      <td>44.94</td>\n",
       "      <td>90</td>\n",
       "      <td>Filial 10</td>\n",
       "    </tr>\n",
       "    <tr>\n",
       "      <th>4</th>\n",
       "      <td>Lápis de sobrancelha</td>\n",
       "      <td>Alimentos</td>\n",
       "      <td>58.63</td>\n",
       "      <td>91</td>\n",
       "      <td>Filial 7</td>\n",
       "    </tr>\n",
       "  </tbody>\n",
       "</table>\n",
       "</div>"
      ],
      "text/plain": [
       "        Nome do Produto Categoria do Produto  Preço do Produto (R$)  \\\n",
       "0           Blush em pó     Eletrodomésticos                  79.41   \n",
       "1  Lápis de sobrancelha     Eletrodomésticos                  85.47   \n",
       "2          Base líquida               Roupas                  75.02   \n",
       "3          Base líquida               Roupas                  44.94   \n",
       "4  Lápis de sobrancelha            Alimentos                  58.63   \n",
       "\n",
       "   Quantidade em Estoque     Filial  \n",
       "0                      7   Filial 7  \n",
       "1                     78   Filial 8  \n",
       "2                     34   Filial 8  \n",
       "3                     90  Filial 10  \n",
       "4                     91   Filial 7  "
      ]
     },
     "execution_count": 3,
     "metadata": {},
     "output_type": "execute_result"
    }
   ],
   "source": [
    "comp_a_df = pd.read_json(COMP_A_PATH)\n",
    "comp_a_df.head()"
   ]
  },
  {
   "cell_type": "code",
   "execution_count": 4,
   "metadata": {},
   "outputs": [
    {
     "name": "stdout",
     "output_type": "stream",
     "text": [
      "<class 'pandas.core.frame.DataFrame'>\n",
      "RangeIndex: 3123 entries, 0 to 3122\n",
      "Data columns (total 5 columns):\n",
      " #   Column                 Non-Null Count  Dtype  \n",
      "---  ------                 --------------  -----  \n",
      " 0   Nome do Produto        3123 non-null   object \n",
      " 1   Categoria do Produto   3123 non-null   object \n",
      " 2   Preço do Produto (R$)  3123 non-null   float64\n",
      " 3   Quantidade em Estoque  3123 non-null   int64  \n",
      " 4   Filial                 3123 non-null   object \n",
      "dtypes: float64(1), int64(1), object(3)\n",
      "memory usage: 122.1+ KB\n"
     ]
    }
   ],
   "source": [
    "comp_a_df.info()"
   ]
  },
  {
   "cell_type": "code",
   "execution_count": 5,
   "metadata": {},
   "outputs": [
    {
     "data": {
      "text/html": [
       "<div>\n",
       "<style scoped>\n",
       "    .dataframe tbody tr th:only-of-type {\n",
       "        vertical-align: middle;\n",
       "    }\n",
       "\n",
       "    .dataframe tbody tr th {\n",
       "        vertical-align: top;\n",
       "    }\n",
       "\n",
       "    .dataframe thead th {\n",
       "        text-align: right;\n",
       "    }\n",
       "</style>\n",
       "<table border=\"1\" class=\"dataframe\">\n",
       "  <thead>\n",
       "    <tr style=\"text-align: right;\">\n",
       "      <th></th>\n",
       "      <th>Preço do Produto (R$)</th>\n",
       "      <th>Quantidade em Estoque</th>\n",
       "    </tr>\n",
       "  </thead>\n",
       "  <tbody>\n",
       "    <tr>\n",
       "      <th>count</th>\n",
       "      <td>3123.000000</td>\n",
       "      <td>3123.000000</td>\n",
       "    </tr>\n",
       "    <tr>\n",
       "      <th>mean</th>\n",
       "      <td>50.608194</td>\n",
       "      <td>49.775216</td>\n",
       "    </tr>\n",
       "    <tr>\n",
       "      <th>std</th>\n",
       "      <td>28.281982</td>\n",
       "      <td>28.703549</td>\n",
       "    </tr>\n",
       "    <tr>\n",
       "      <th>min</th>\n",
       "      <td>1.030000</td>\n",
       "      <td>1.000000</td>\n",
       "    </tr>\n",
       "    <tr>\n",
       "      <th>25%</th>\n",
       "      <td>26.385000</td>\n",
       "      <td>25.000000</td>\n",
       "    </tr>\n",
       "    <tr>\n",
       "      <th>50%</th>\n",
       "      <td>50.670000</td>\n",
       "      <td>50.000000</td>\n",
       "    </tr>\n",
       "    <tr>\n",
       "      <th>75%</th>\n",
       "      <td>75.220000</td>\n",
       "      <td>75.000000</td>\n",
       "    </tr>\n",
       "    <tr>\n",
       "      <th>max</th>\n",
       "      <td>99.980000</td>\n",
       "      <td>100.000000</td>\n",
       "    </tr>\n",
       "  </tbody>\n",
       "</table>\n",
       "</div>"
      ],
      "text/plain": [
       "       Preço do Produto (R$)  Quantidade em Estoque\n",
       "count            3123.000000            3123.000000\n",
       "mean               50.608194              49.775216\n",
       "std                28.281982              28.703549\n",
       "min                 1.030000               1.000000\n",
       "25%                26.385000              25.000000\n",
       "50%                50.670000              50.000000\n",
       "75%                75.220000              75.000000\n",
       "max                99.980000             100.000000"
      ]
     },
     "execution_count": 5,
     "metadata": {},
     "output_type": "execute_result"
    }
   ],
   "source": [
    "comp_a_df.describe()"
   ]
  },
  {
   "cell_type": "code",
   "execution_count": null,
   "metadata": {},
   "outputs": [],
   "source": []
  }
 ],
 "metadata": {
  "kernelspec": {
   "display_name": ".venv",
   "language": "python",
   "name": "python3"
  },
  "language_info": {
   "codemirror_mode": {
    "name": "ipython",
    "version": 3
   },
   "file_extension": ".py",
   "mimetype": "text/x-python",
   "name": "python",
   "nbconvert_exporter": "python",
   "pygments_lexer": "ipython3",
   "version": "3.12.3"
  }
 },
 "nbformat": 4,
 "nbformat_minor": 2
}
